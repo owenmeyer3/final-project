{
 "cells": [
  {
   "cell_type": "code",
   "execution_count": null,
   "metadata": {},
   "outputs": [],
   "source": [
    "import pandas as pd\n",
    "import numpy as np\n",
    "import datetime as dt\n",
    "import requests\n",
    "# import gmaps\n",
    "import os\n",
    "# Import API key\n",
    "from api_keys import g_key\n",
    "\n",
    "data_set = 'data/titanicDataSet.csv'\n",
    "input_data = pd.read_csv(data_set) \n",
    "\n",
    "url = \"https://maps.googleapis.com/maps/api/place/findplacefromtext/json?\"\n",
    "\n",
    "#Print header for API processing log\n",
    "print('Beginning Data Retrieval ') \n",
    "print('-----------------------------')\n",
    "\n",
    "#Conduct a series of successive API calls to gather zipcode data for vacation cities\n",
    "for row in input_data.index:\n",
    "    name = input_data.at[row, 'Name']\n",
    "    home = input_data.at[row, 'Hometown']\n",
    "    destination = input_data.at[row, 'Destination']\n",
    "\n",
    "    print(f'Retrieving Results for Passenger | {name}') \n",
    "    parameter1 = (f\"input={home}&inputtype=textquery&fields=formatted_address,name,geometry&key={g_key}\")\n",
    "    parameter2 = (f\"input={destination}&inputtype=textquery&fields=formatted_address,name,geometry&key={g_key}\")\n",
    "\n",
    "#Check to make sure the passenger has data, if not skip that passenger and continue\n",
    "    try:\n",
    "\n",
    "#Get the response from the API request and capture the lat/lng data values from the request\n",
    "        response2 = requests.get(url + parameter2).json()  \n",
    "        print(response2)\n",
    "        if home == destination:\n",
    "            response1 = response2\n",
    "        else:\n",
    "            response1 = requests.get(url + parameter1).json()  \n",
    "            print(response1)\n",
    "#extract results\n",
    "        input_data.at[row, 'Home_Lat'] = response1['candidates'][0]['geometry']['location']['lat']\n",
    "        input_data.at[row, 'Home_Lng'] = response1['candidates'][0]['geometry']['location']['lng']\n",
    "        input_data.at[row, 'Dest_Lat'] = response2['candidates'][0]['geometry']['location']['lat']\n",
    "        input_data.at[row, 'Dest_Lng'] = response2['candidates'][0]['geometry']['location']['lng']\n",
    "\n",
    "#Generate an exception message if passenger data not found\n",
    "    except Exception:\n",
    "        print(f'{name} city not found. Skipping...')\n",
    "\n",
    "input_data.to_csv('data/titanicDataSet_LatLong.csv')        \n",
    "print(input_data) "
   ]
  },
  {
   "cell_type": "code",
   "execution_count": null,
   "metadata": {},
   "outputs": [],
   "source": []
  }
 ],
 "metadata": {
  "kernelspec": {
   "display_name": "Python 3",
   "language": "python",
   "name": "python3"
  },
  "language_info": {
   "codemirror_mode": {
    "name": "ipython",
    "version": 3
   },
   "file_extension": ".py",
   "mimetype": "text/x-python",
   "name": "python",
   "nbconvert_exporter": "python",
   "pygments_lexer": "ipython3",
   "version": "3.8.3"
  }
 },
 "nbformat": 4,
 "nbformat_minor": 4
}
